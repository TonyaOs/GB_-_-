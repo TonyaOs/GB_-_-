{
 "cells": [
  {
   "cell_type": "markdown",
   "id": "7372262f",
   "metadata": {},
   "source": [
    "### Домашнее задание к уроку 5\n",
    "Проверка статистических гипотез. P-значения. Доверительные интервалы. A/B-тестирование"
   ]
  },
  {
   "cell_type": "markdown",
   "id": "54e885b1",
   "metadata": {},
   "source": [
    "<b> 1. Известно, что генеральная совокупность распределена нормально\n",
    "со средним квадратическим отклонением, равным 16.\n",
    "Найти доверительный интервал для оценки математического ожидания a с надежностью 0.95,\n",
    "если выборочная средняя M = 80, а объем выборки n = 256.</b>"
   ]
  },
  {
   "cell_type": "code",
   "execution_count": 1,
   "id": "e130d473",
   "metadata": {},
   "outputs": [],
   "source": [
    "import numpy as np\n",
    "import pandas as pd"
   ]
  },
  {
   "cell_type": "code",
   "execution_count": 2,
   "id": "9ea97e8d",
   "metadata": {},
   "outputs": [],
   "source": [
    "def combinations(n, k):\n",
    "    return (np.math.factorial(n)/(np.math.factorial(k)*np.math.factorial(n-k)))"
   ]
  },
  {
   "cell_type": "code",
   "execution_count": 4,
   "id": "487b220c",
   "metadata": {},
   "outputs": [],
   "source": [
    "sa = 16\n",
    "m = 80\n",
    "n = 256\n",
    "y = 0.95"
   ]
  },
  {
   "cell_type": "code",
   "execution_count": 5,
   "id": "4f89ac0a",
   "metadata": {},
   "outputs": [
    {
     "data": {
      "text/plain": [
       "0.475"
      ]
     },
     "execution_count": 5,
     "metadata": {},
     "output_type": "execute_result"
    }
   ],
   "source": [
    "#пользуясь таблицей Лапласа, находим t\n",
    "Ф_t = y/2\n",
    "Ф_t"
   ]
  },
  {
   "cell_type": "code",
   "execution_count": 6,
   "id": "88f1d6fe",
   "metadata": {},
   "outputs": [],
   "source": [
    "t = 1.96"
   ]
  },
  {
   "cell_type": "code",
   "execution_count": 7,
   "id": "f2289b2b",
   "metadata": {},
   "outputs": [
    {
     "data": {
      "text/plain": [
       "1.96"
      ]
     },
     "execution_count": 7,
     "metadata": {},
     "output_type": "execute_result"
    }
   ],
   "source": [
    "#вычислим слагаемое для определения доверительного интервала\n",
    "d = t*(sa/(256)**0.5)\n",
    "d"
   ]
  },
  {
   "cell_type": "code",
   "execution_count": 8,
   "id": "e96cf551",
   "metadata": {},
   "outputs": [
    {
     "name": "stdout",
     "output_type": "stream",
     "text": [
      "78.04 < a < 81.96\n"
     ]
    }
   ],
   "source": [
    "# мат ожидание лежит между\n",
    "print (m - t*(sa/(256)**0.5), '< a <', m + t*(sa/(256)**0.5))\n"
   ]
  },
  {
   "cell_type": "markdown",
   "id": "ce10e9dc",
   "metadata": {},
   "source": [
    "<b> 2. В результате 10 независимых измерений некоторой величины X, выполненных с одинаковой точностью,\n",
    "получены опытные данные:\n",
    "6.9, 6.1, 6.2, 6.8, 7.5, 6.3, 6.4, 6.9, 6.7, 6.1\n",
    "Предполагая, что результаты измерений подчинены нормальному закону распределения вероятностей,\n",
    "оценить истинное значение величины X при помощи доверительного интервала, покрывающего это\n",
    "значение с доверительной вероятностью 0,95. </b>"
   ]
  },
  {
   "cell_type": "code",
   "execution_count": 9,
   "id": "0ab17cc9",
   "metadata": {},
   "outputs": [],
   "source": [
    "z = np.array([6.9, 6.1, 6.2, 6.8, 7.5, 6.3, 6.4, 6.9, 6.7, 6.1])\n",
    "y = 0.95"
   ]
  },
  {
   "cell_type": "code",
   "execution_count": 10,
   "id": "38c34e69",
   "metadata": {},
   "outputs": [],
   "source": [
    "# выборка малого объема, поэтому применим распределение Стьюдента\n",
    "# t (0.05, 9) находим по таблице распределения Стьюдента\n",
    "t = 2.262\n"
   ]
  },
  {
   "cell_type": "code",
   "execution_count": 11,
   "id": "8e3a599c",
   "metadata": {},
   "outputs": [
    {
     "data": {
      "text/plain": [
       "6.590000000000001"
      ]
     },
     "execution_count": 11,
     "metadata": {},
     "output_type": "execute_result"
    }
   ],
   "source": [
    "# находим выборочное среднее как среднее арифметическое\n",
    "m = z.sum()/z.size\n",
    "m"
   ]
  },
  {
   "cell_type": "code",
   "execution_count": 12,
   "id": "df085a86",
   "metadata": {},
   "outputs": [
    {
     "data": {
      "text/plain": [
       "0.42766809560686203"
      ]
     },
     "execution_count": 12,
     "metadata": {},
     "output_type": "execute_result"
    }
   ],
   "source": [
    "# находим среднееквадратичное отклонение через несмещенную выборочную дисперсию\n",
    "sa = z.std()\n",
    "sa"
   ]
  },
  {
   "cell_type": "code",
   "execution_count": 13,
   "id": "7a739358",
   "metadata": {},
   "outputs": [
    {
     "data": {
      "text/plain": [
       "0.30591407087612044"
      ]
     },
     "execution_count": 13,
     "metadata": {},
     "output_type": "execute_result"
    }
   ],
   "source": [
    "#вычислим слагаемое для определения доверительного интервала\n",
    "d = t*(sa/(z.size)**0.5)\n",
    "d"
   ]
  },
  {
   "cell_type": "code",
   "execution_count": 14,
   "id": "538257f7",
   "metadata": {},
   "outputs": [
    {
     "name": "stdout",
     "output_type": "stream",
     "text": [
      "6.52953842298358 < a < 6.650461577016421\n"
     ]
    }
   ],
   "source": [
    "# мат ожидание лежит между\n",
    "print (m - t*(sa/(256)**0.5), '< a <', m + t*(sa/(256)**0.5))\n"
   ]
  },
  {
   "cell_type": "markdown",
   "id": "22925557",
   "metadata": {},
   "source": [
    "<b>3.Утверждается, что шарики для подшипников, изготовленные автоматическим станком, имеют средний диаметр 17 мм.\n",
    "Используя односторонний критерий с α=0,05, проверить эту гипотезу, если в выборке из n=100 шариков средний диаметр\n",
    "оказался равным 17.5 мм, а дисперсия известна и равна 4 мм.</b>"
   ]
  },
  {
   "cell_type": "code",
   "execution_count": 15,
   "id": "0a24f285",
   "metadata": {},
   "outputs": [
    {
     "data": {
      "text/plain": [
       "1.25"
      ]
     },
     "execution_count": 15,
     "metadata": {},
     "output_type": "execute_result"
    }
   ],
   "source": [
    "# нулевая гипотеза d = 17, альтернативная гипотеза d > 17\n",
    "# наблюдаемое значение критерия\n",
    "d = 17\n",
    "a = 0.05\n",
    "n = 100\n",
    "sa = 17.5\n",
    "s = 4\n",
    "\n",
    "U = (sa - d)* (n)**0.5/s\n",
    "U\n"
   ]
  },
  {
   "cell_type": "code",
   "execution_count": 17,
   "id": "a24836a4",
   "metadata": {},
   "outputs": [
    {
     "data": {
      "text/plain": [
       "0.45"
      ]
     },
     "execution_count": 17,
     "metadata": {},
     "output_type": "execute_result"
    }
   ],
   "source": [
    "# По таблице функции Лапласа находим критическую точку для односторонней критической\n",
    "# области (при альтернативнйо гипотизе) по уровню значимости α = 0,05 \n",
    "Ф = (1-2*a)/2\n",
    "Ф"
   ]
  },
  {
   "cell_type": "code",
   "execution_count": 18,
   "id": "439e3b7c",
   "metadata": {},
   "outputs": [
    {
     "name": "stdout",
     "output_type": "stream",
     "text": [
      "Так как U < t, то то нулевую гипотезу можно принять, значит средний диаметр действительно 17 мм\n"
     ]
    }
   ],
   "source": [
    "t = 1.645\n",
    "print('Так как U < t, то то нулевую гипотезу можно принять, значит средний диаметр действительно', d, 'мм')"
   ]
  },
  {
   "cell_type": "markdown",
   "id": "dd88efcb",
   "metadata": {},
   "source": [
    "<b> 4.Продавец утверждает, что средний вес пачки печенья составляет 200 г.\n",
    "Из партии извлечена выборка из 10 пачек. Вес каждой пачки составляет:\n",
    "202, 203, 199, 197, 195, 201, 200, 204, 194, 190.\n",
    "Известно, что их веса распределены нормально.\n",
    "Верно ли утверждение продавца, если учитывать, что доверительная вероятность равна 99%? </b>"
   ]
  },
  {
   "cell_type": "code",
   "execution_count": 32,
   "id": "ff2633c5",
   "metadata": {},
   "outputs": [],
   "source": [
    "z = np.array([202, 203, 199, 197, 195, 201, 200, 204, 194, 190])\n",
    "n = 10\n",
    "d = 200\n"
   ]
  },
  {
   "cell_type": "code",
   "execution_count": 35,
   "id": "b84d2563",
   "metadata": {},
   "outputs": [
    {
     "data": {
      "text/plain": [
       "198.5"
      ]
     },
     "execution_count": 35,
     "metadata": {},
     "output_type": "execute_result"
    }
   ],
   "source": [
    "s = z.var(ddof=1)**0.5\n",
    "m = z.sum()/z.size\n",
    "m"
   ]
  },
  {
   "cell_type": "code",
   "execution_count": 36,
   "id": "41faf364",
   "metadata": {},
   "outputs": [
    {
     "data": {
      "text/plain": [
       "-1.0651074037450896"
      ]
     },
     "execution_count": 36,
     "metadata": {},
     "output_type": "execute_result"
    }
   ],
   "source": [
    "# наблюдаемая величина\n",
    "\n",
    "U = (m - d)* (n)**0.5/s\n",
    "U"
   ]
  },
  {
   "cell_type": "markdown",
   "id": "72bb18c4",
   "metadata": {},
   "source": [
    "По таблице критических точек распределения Стьюдента находим критическую точку по\n",
    "уровню значимости α = 0.01 и числу степеней свободы k = 9 , откуда  t ≈ 3.25 кр\n",
    "Так как |U|= 1.065 < t ≈ 3.25, то нулевую гипотезу о равенстве среднего веса 200 г\n",
    "можно принять"
   ]
  },
  {
   "cell_type": "code",
   "execution_count": null,
   "id": "e9102468",
   "metadata": {},
   "outputs": [],
   "source": []
  }
 ],
 "metadata": {
  "kernelspec": {
   "display_name": "Python 3 (ipykernel)",
   "language": "python",
   "name": "python3"
  },
  "language_info": {
   "codemirror_mode": {
    "name": "ipython",
    "version": 3
   },
   "file_extension": ".py",
   "mimetype": "text/x-python",
   "name": "python",
   "nbconvert_exporter": "python",
   "pygments_lexer": "ipython3",
   "version": "3.9.7"
  }
 },
 "nbformat": 4,
 "nbformat_minor": 5
}
