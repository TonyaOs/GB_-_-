{
 "cells": [
  {
   "cell_type": "markdown",
   "id": "73cc03cf",
   "metadata": {},
   "source": [
    "### Домашнее задание к уроку 4\n",
    "Непрерывные случайные величины. Функция распределения и плотность распределения вероятностей. Равномерное и нормальное распределение. Центральная предельная теорема"
   ]
  },
  {
   "cell_type": "markdown",
   "id": "d00a5387",
   "metadata": {},
   "source": [
    "<b>1. Случайная непрерывная величина A имеет равномерное распределение на промежутке (200, 800].\n",
    "Найдите ее среднее значение и дисперсию.</b>"
   ]
  },
  {
   "cell_type": "code",
   "execution_count": 1,
   "id": "0ccd4d7e",
   "metadata": {},
   "outputs": [],
   "source": [
    "import numpy as np\n",
    "import pandas as pd\n",
    "\n",
    "a = 200\n",
    "b = 800\n"
   ]
  },
  {
   "cell_type": "code",
   "execution_count": 2,
   "id": "2eff7bb4",
   "metadata": {},
   "outputs": [
    {
     "name": "stdout",
     "output_type": "stream",
     "text": [
      "Среднее значени =  500.0 Дисперсия =  30000.0\n"
     ]
    }
   ],
   "source": [
    "M_x = (a+b)/2\n",
    "D_x = (b-a)**2/12\n",
    "\n",
    "print('Среднее значени = ', M_x, 'Дисперсия = ', D_x)"
   ]
  },
  {
   "cell_type": "markdown",
   "id": "ecd848db",
   "metadata": {},
   "source": [
    "<b>2. О случайной непрерывной равномерно распределенной величине B известно, что ее дисперсия равна 0.2.\n",
    "Можно ли найти правую границу величины B и ее среднее значение зная, что левая граница равна 0.5?\n",
    "Если да, найдите ее.</b>"
   ]
  },
  {
   "cell_type": "code",
   "execution_count": 4,
   "id": "f09b4f52",
   "metadata": {},
   "outputs": [
    {
     "name": "stdout",
     "output_type": "stream",
     "text": [
      "Правая граница случайной величины B =  2.049193338482967 Среднее значение =  1.2745966692414834\n"
     ]
    }
   ],
   "source": [
    "D_x = 0.2\n",
    "a = 0.5\n",
    "\n",
    "b = (D_x*12)**0.5 + a\n",
    "M_x = (b+a)/2\n",
    "\n",
    "print('Правая граница случайной величины B = ', b, 'Среднее значение = ', M_x)"
   ]
  },
  {
   "cell_type": "markdown",
   "id": "6f046952",
   "metadata": {},
   "source": [
    "<b>3. Непрерывная случайная величина X распределена нормально и задана плотностью распределения\\\n",
    "f(x) = (1 / (4 * sqrt(2*pi))) * (exp(-(x+2)**2) / 32).\\\n",
    "Найдите:\\\n",
    "а) M(X)\\\n",
    "б) D(X)\\\n",
    "в) std(X) (среднее квадратичное отклонение)</b>"
   ]
  },
  {
   "cell_type": "code",
   "execution_count": 1,
   "id": "43629c09",
   "metadata": {},
   "outputs": [],
   "source": [
    "# смотрим формулу для плотности распределения и выписываем нужные значения\n",
    "M_x = -2\n",
    "D_x = 16  #32/2\n",
    "std_x = 4"
   ]
  },
  {
   "cell_type": "markdown",
   "id": "ce409b7f",
   "metadata": {},
   "source": [
    "<b>4.Рост взрослого населения города X имеет нормальное распределение.\\\n",
    "Причем, средний рост равен 174 см, а среднее квадратичное отклонение равно 8 см.\\\n",
    "Какова вероятность того, что случайным образом выбранный взрослый человек имеет рост:\\\n",
    "а). больше 182 см\\\n",
    "б). больше 190 см\\\n",
    "в). от 166 см до 190 см\\\n",
    "г). от 166 см до 182 см\\\n",
    "д). от 158 см до 190 см\\\n",
    "е). не выше 150 см или не ниже 190 см\\\n",
    "ё). не выше 150 см или не ниже 198 см\\\n",
    "ж). ниже 166 см.</b>"
   ]
  },
  {
   "cell_type": "code",
   "execution_count": 4,
   "id": "b71154a8",
   "metadata": {},
   "outputs": [
    {
     "name": "stdout",
     "output_type": "stream",
     "text": [
      "1.0 2.0 -1.0\n"
     ]
    }
   ],
   "source": [
    "z_a = (182-174)/8\n",
    "z_б = (190-174)/8\n",
    "z_ж = (166-174)/8\n",
    "print(z_a, z_б, z_ж)"
   ]
  },
  {
   "cell_type": "code",
   "execution_count": 5,
   "id": "661fff91",
   "metadata": {},
   "outputs": [
    {
     "name": "stdout",
     "output_type": "stream",
     "text": [
      "P(a) =  0.15869999999999995 P(б) =  0.022800000000000042 P(ж) =  0.1587\n"
     ]
    }
   ],
   "source": [
    "# по таблице нормального распределения находим вероятность\n",
    "P_a = 1 - 0.8413\n",
    "P_б = 1 - 0.9772\n",
    "P_ж = 0.1587 # так как z отрицательно\n",
    "\n",
    "print ('P(a) = ',P_a, 'P(б) = ',P_б, 'P(ж) = ',P_ж,)"
   ]
  },
  {
   "cell_type": "code",
   "execution_count": 6,
   "id": "7324cf75",
   "metadata": {},
   "outputs": [
    {
     "name": "stdout",
     "output_type": "stream",
     "text": [
      "P(в) =  0.8185\n"
     ]
    }
   ],
   "source": [
    "# пункт в)\n",
    "P_в = 1 - P_б - P_ж\n",
    "print ('P(в) = ',P_в)"
   ]
  },
  {
   "cell_type": "code",
   "execution_count": 8,
   "id": "381c4499",
   "metadata": {},
   "outputs": [
    {
     "name": "stdout",
     "output_type": "stream",
     "text": [
      "P(г) =  0.6826000000000001\n"
     ]
    }
   ],
   "source": [
    "# пункт г)\n",
    "P_г = 1 - P_a - P_ж\n",
    "print ('P(г) = ',P_г)"
   ]
  },
  {
   "cell_type": "code",
   "execution_count": 9,
   "id": "1fb0fe6a",
   "metadata": {},
   "outputs": [
    {
     "data": {
      "text/plain": [
       "-2.0"
      ]
     },
     "execution_count": 9,
     "metadata": {},
     "output_type": "execute_result"
    }
   ],
   "source": [
    "# пункт д)\n",
    "z_д = (158-174)/8\n",
    "z_д"
   ]
  },
  {
   "cell_type": "code",
   "execution_count": 10,
   "id": "5304230d",
   "metadata": {},
   "outputs": [
    {
     "name": "stdout",
     "output_type": "stream",
     "text": [
      "P(д) =  0.9543999999999999\n"
     ]
    }
   ],
   "source": [
    "P = 0.0228\n",
    "P_д = 1 - P_б - P\n",
    "print ('P(д) = ',P_д)"
   ]
  },
  {
   "cell_type": "code",
   "execution_count": 11,
   "id": "cabe4049",
   "metadata": {},
   "outputs": [
    {
     "data": {
      "text/plain": [
       "-3.0"
      ]
     },
     "execution_count": 11,
     "metadata": {},
     "output_type": "execute_result"
    }
   ],
   "source": [
    "# пункт е)\n",
    "z_е = (150-174)/8\n",
    "z_е"
   ]
  },
  {
   "cell_type": "code",
   "execution_count": 12,
   "id": "e944042d",
   "metadata": {},
   "outputs": [
    {
     "name": "stdout",
     "output_type": "stream",
     "text": [
      "P(е) =  0.02410000000000004\n"
     ]
    }
   ],
   "source": [
    "P = 0.0013\n",
    "P_е = P + P_б\n",
    "print ('P(е) = ',P_е)"
   ]
  },
  {
   "cell_type": "code",
   "execution_count": 13,
   "id": "5e085f64",
   "metadata": {},
   "outputs": [
    {
     "data": {
      "text/plain": [
       "3.0"
      ]
     },
     "execution_count": 13,
     "metadata": {},
     "output_type": "execute_result"
    }
   ],
   "source": [
    "# пункт ё)\n",
    "z_ё = (198-174)/8\n",
    "z_ё"
   ]
  },
  {
   "cell_type": "code",
   "execution_count": 17,
   "id": "e0e92182",
   "metadata": {},
   "outputs": [
    {
     "name": "stdout",
     "output_type": "stream",
     "text": [
      "P(ё) =  0.002599999999999968\n"
     ]
    }
   ],
   "source": [
    "P = 1-0.9987\n",
    "P_ё = 0.0013 + P\n",
    "print ('P(ё) = ',P_ё)"
   ]
  },
  {
   "cell_type": "markdown",
   "id": "6b22bf37",
   "metadata": {},
   "source": [
    "<b>5.На сколько сигм (средних квадратичных отклонений) отклоняется рост человека, равный 190 см, от\n",
    "математического ожидания роста в популяции, в которой M(X) = 178 см и D(X) = 25 кв.см?</b>"
   ]
  },
  {
   "cell_type": "code",
   "execution_count": 20,
   "id": "c84843d5",
   "metadata": {},
   "outputs": [
    {
     "name": "stdout",
     "output_type": "stream",
     "text": [
      "Рост человека, равный 190 см, отклоняется от математического ожидания роста в популяции, \n",
      "в которой M(X) = 178 см и D(X) = 25 кв.см на 2.4 сигм.\n"
     ]
    }
   ],
   "source": [
    "z = (190-178)/(25)**0.5\n",
    "\n",
    "print(f'Рост человека, равный 190 см, отклоняется от математического ожидания роста в популяции, \\n'\n",
    "      f'в которой M(X) = 178 см и D(X) = 25 кв.см на {z} сигм.')"
   ]
  },
  {
   "cell_type": "code",
   "execution_count": null,
   "id": "65036b66",
   "metadata": {},
   "outputs": [],
   "source": []
  }
 ],
 "metadata": {
  "kernelspec": {
   "display_name": "Python 3 (ipykernel)",
   "language": "python",
   "name": "python3"
  },
  "language_info": {
   "codemirror_mode": {
    "name": "ipython",
    "version": 3
   },
   "file_extension": ".py",
   "mimetype": "text/x-python",
   "name": "python",
   "nbconvert_exporter": "python",
   "pygments_lexer": "ipython3",
   "version": "3.9.7"
  }
 },
 "nbformat": 4,
 "nbformat_minor": 5
}
