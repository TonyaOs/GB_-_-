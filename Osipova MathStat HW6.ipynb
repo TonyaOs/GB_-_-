{
 "cells": [
  {
   "cell_type": "markdown",
   "id": "339d3894",
   "metadata": {},
   "source": [
    "### Домашнее задание к уроку 6\n",
    "Взаимосвязь величин. Параметрические и непараметрические показатели корреляции. Корреляционный анализ."
   ]
  },
  {
   "cell_type": "markdown",
   "id": "b0b8ba52",
   "metadata": {},
   "source": [
    "<b>1.Даны значения величины заработной платы заемщиков банка (zp) и значения их поведенческого кредитного скоринга (ks):\\\n",
    "zp = [35, 45, 190, 200, 40, 70, 54, 150, 120, 110],\\\n",
    "ks = [401, 574, 874, 919, 459, 739, 653, 902, 746, 832].\\\n",
    "Найдите ковариацию этих двух величин с помощью элементарных действий, а затем с помощью функции cov из numpy\\\n",
    "Полученные значения должны быть равны.\\\n",
    "Найдите коэффициент корреляции Пирсона с помощью ковариации и среднеквадратичных отклонений двух признаков,\n",
    "а затем с использованием функций из библиотек numpy и pandas.</b>"
   ]
  },
  {
   "cell_type": "code",
   "execution_count": 58,
   "id": "49a9b440",
   "metadata": {},
   "outputs": [],
   "source": [
    "import pandas as pd\n",
    "import numpy as np"
   ]
  },
  {
   "cell_type": "code",
   "execution_count": 59,
   "id": "84ccec6e",
   "metadata": {},
   "outputs": [],
   "source": [
    "zp=np.array([35, 45, 190, 200, 40, 70, 54, 150, 120, 110])\n",
    "ks=np.array([401, 574, 874, 919, 459, 739, 653, 902, 746, 832])"
   ]
  },
  {
   "cell_type": "code",
   "execution_count": 60,
   "id": "f41c8581",
   "metadata": {},
   "outputs": [],
   "source": [
    "# смещенная ковариация\n",
    "M_XY=sum(zp*ks)/len(zp)\n",
    "M_X=sum(zp)/len(zp)\n",
    "M_Y=sum(ks)/len(ks)"
   ]
  },
  {
   "cell_type": "code",
   "execution_count": 61,
   "id": "bec6c0e8",
   "metadata": {},
   "outputs": [
    {
     "name": "stdout",
     "output_type": "stream",
     "text": [
      "9157.839999999997 [[ 3494.64  9157.84]\n",
      " [ 9157.84 30468.89]]\n"
     ]
    }
   ],
   "source": [
    "covar = M_XY - M_X*M_Y \n",
    "covar_2 = np.cov(zp, ks,  ddof=0)\n",
    "print(covar, covar_2)"
   ]
  },
  {
   "cell_type": "code",
   "execution_count": 62,
   "id": "ce587100",
   "metadata": {},
   "outputs": [],
   "source": [
    "# коэффициент корреляции Пирсона\n",
    "\n",
    "def sigma(ar, offset = True):\n",
    "    mean_ar = sum(ar)/len(ar)\n",
    "    square_ar = (ar - mean_ar)**2\n",
    "    variance = sum(square_ar)/len(ar) if offset else sum(square_ar)/(len(ar) - 1)\n",
    "    return variance**0.5"
   ]
  },
  {
   "cell_type": "code",
   "execution_count": 63,
   "id": "132bc7fd",
   "metadata": {},
   "outputs": [
    {
     "name": "stdout",
     "output_type": "stream",
     "text": [
      "Коэффициент смещенной корреляции r =  0.88749\n",
      "Коэффициент смещенной корреляции R = [[1.         0.88749009]\n",
      " [0.88749009 1.        ]]\n"
     ]
    }
   ],
   "source": [
    "r = covar/(sigma(zp)*sigma(ks))\n",
    "R = np.corrcoef(zp,ks)\n",
    "print(f'Коэффициент смещенной корреляции r = {r: .5f}')\n",
    "print(f'Коэффициент смещенной корреляции R =', R)"
   ]
  },
  {
   "cell_type": "code",
   "execution_count": 64,
   "id": "ccb8bce7",
   "metadata": {},
   "outputs": [
    {
     "name": "stdout",
     "output_type": "stream",
     "text": [
      "Коэффициент несмещенной корреляции r_2 = [[0.33866702 0.88749009]\n",
      " [0.88749009 2.95275283]]\n",
      "Коэффициент несмещенной корреляции R_2 = [[1.         0.88749009]\n",
      " [0.88749009 1.        ]]\n"
     ]
    }
   ],
   "source": [
    "r_2 = np.cov(zp, ks,  ddof=1)/(sigma(zp, offset=False)*sigma(ks, offset=False))\n",
    "R_2 = np.corrcoef(zp,ks)\n",
    "print(f'Коэффициент несмещенной корреляции r_2 = {r_2}')\n",
    "print(f'Коэффициент несмещенной корреляции R_2 = {R_2}')"
   ]
  },
  {
   "cell_type": "markdown",
   "id": "535e47ab",
   "metadata": {},
   "source": [
    "<b>2.Измерены значения IQ выборки студентов,\n",
    "обучающихся в местных технических вузах:\\\n",
    "131, 125, 115, 122, 131, 115, 107, 99, 125, 111.\\\n",
    "Известно, что в генеральной совокупности IQ распределен нормально.\\\n",
    "Найдите доверительный интервал для математического ожидания с надежностью 0.95.</b>"
   ]
  },
  {
   "cell_type": "code",
   "execution_count": 65,
   "id": "526922b3",
   "metadata": {},
   "outputs": [],
   "source": [
    "import scipy.stats as stats"
   ]
  },
  {
   "cell_type": "code",
   "execution_count": 66,
   "id": "d3cf8a73",
   "metadata": {},
   "outputs": [],
   "source": [
    "z = np.array([131, 125, 115, 122, 131, 115, 107, 99, 125, 111])"
   ]
  },
  {
   "cell_type": "code",
   "execution_count": 67,
   "id": "74914dd7",
   "metadata": {},
   "outputs": [
    {
     "name": "stdout",
     "output_type": "stream",
     "text": [
      "Среднее выборочное: mean_z =  118.10,\n",
      "Размер выборки n= 10,\n",
      "Среднее квадратическое отклонение по выборке(несмещенное): s =  10.55\n"
     ]
    }
   ],
   "source": [
    "# для расчета будем использовать t критерий \n",
    "mean_z = np.mean(z)\n",
    "n = len(z)\n",
    "s = np.std(z, ddof = 1)\n",
    "\n",
    "print(f'Среднее выборочное: mean_z = {mean_z: .2f},\\n'\n",
    "      f'Размер выборки n= {n},\\n'\n",
    "      f'Среднее квадратическое отклонение по выборке(несмещенное): s = {s: .2f}')"
   ]
  },
  {
   "cell_type": "code",
   "execution_count": 68,
   "id": "1214f559",
   "metadata": {},
   "outputs": [
    {
     "name": "stdout",
     "output_type": "stream",
     "text": [
      "Табличное значение t-критерия для 95%-го доверительного интервала данной выборки:  2.262\n"
     ]
    }
   ],
   "source": [
    "def t_table(conf, len_array):\n",
    "    alpha=(1-conf)\n",
    "    return stats.t.ppf(1-alpha/2, len_array-1)\n",
    "\n",
    "t = t_table(0.95, len(z))\n",
    "print(f'Табличное значение t-критерия для 95%-го доверительного интервала данной выборки: {t: .3f}')"
   ]
  },
  {
   "cell_type": "code",
   "execution_count": 69,
   "id": "cf14f322",
   "metadata": {},
   "outputs": [
    {
     "name": "stdout",
     "output_type": "stream",
     "text": [
      "Доверительный интервал для мат. ожидания с надеждностью 0,95: (110.556,  125.644) \n"
     ]
    }
   ],
   "source": [
    "x_1 = round(mean_z - t*s/n**0.5, 3)\n",
    "x_2 = round(mean_z + t*s/n**0.5, 3)\n",
    "\n",
    "print(f'Доверительный интервал для мат. ожидания с надеждностью 0,95: ({x_1},  {x_2}) ')"
   ]
  },
  {
   "cell_type": "markdown",
   "id": "8de5df4a",
   "metadata": {},
   "source": [
    "<b>3.Известно, что рост футболистов в сборной распределен нормально\n",
    "с дисперсией генеральной совокупности, равной 25 кв.см. Объем выборки равен 27,\n",
    "среднее выборочное составляет 174.2. Найдите доверительный интервал для математического\n",
    "ожидания с надежностью 0.95.</b>"
   ]
  },
  {
   "cell_type": "code",
   "execution_count": 70,
   "id": "f3280849",
   "metadata": {},
   "outputs": [],
   "source": [
    "n = 27\n",
    "mean_z = 174.2\n",
    "D = 25\n"
   ]
  },
  {
   "cell_type": "code",
   "execution_count": 71,
   "id": "bac7b086",
   "metadata": {},
   "outputs": [
    {
     "name": "stdout",
     "output_type": "stream",
     "text": [
      "95%-й доверительный интервал для оценки мат. ожидания генеральной совокупности: [ 172.3140; 176.0860].\n"
     ]
    }
   ],
   "source": [
    "# тк известна дисперсия используем Z критерий\n",
    "Z = 1.96\n",
    "\n",
    "x_1 = mean_z - Z*(D**0.5)/(n**0.5)\n",
    "x_2 = mean_z + Z*(D**0.5)/(n**0.5)\n",
    "\n",
    "print(f'95%-й доверительный интервал для оценки мат. ожидания генеральной совокупности: [{x_1: .4f};{x_2: .4f}].')"
   ]
  }
 ],
 "metadata": {
  "kernelspec": {
   "display_name": "Python 3 (ipykernel)",
   "language": "python",
   "name": "python3"
  },
  "language_info": {
   "codemirror_mode": {
    "name": "ipython",
    "version": 3
   },
   "file_extension": ".py",
   "mimetype": "text/x-python",
   "name": "python",
   "nbconvert_exporter": "python",
   "pygments_lexer": "ipython3",
   "version": "3.9.7"
  }
 },
 "nbformat": 4,
 "nbformat_minor": 5
}
