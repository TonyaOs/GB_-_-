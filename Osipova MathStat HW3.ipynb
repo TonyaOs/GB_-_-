{
 "cells": [
  {
   "cell_type": "markdown",
   "id": "c0a09405",
   "metadata": {},
   "source": [
    "### Домашнее задание к уроку 3\n",
    "### Описательная статистика. Качественные и количественные характеристики популяции. Графическое представление данных"
   ]
  },
  {
   "cell_type": "markdown",
   "id": "f1d9fd7f",
   "metadata": {},
   "source": [
    "<b>1. Даны значения зарплат из выборки выпускников: 100, 80, 75, 77, 89, 33, 45, 25, 65, 17, 30, 24, 57, 55, 70, 75, 65, 84, 90, 150. Посчитать (желательно без использования статистических методов наподобие std, var, mean) среднее арифметическое, среднее квадратичное отклонение, смещенную и несмещенную оценки дисперсий для данной выборки.</b>"
   ]
  },
  {
   "cell_type": "code",
   "execution_count": 1,
   "id": "8d81ecff",
   "metadata": {},
   "outputs": [],
   "source": [
    "import numpy as np\n",
    "import pandas as pd\n",
    "from scipy.stats import  binom\n",
    "from scipy.stats import  poisson"
   ]
  },
  {
   "cell_type": "code",
   "execution_count": 2,
   "id": "7a4c0b90",
   "metadata": {},
   "outputs": [],
   "source": [
    "def combinations(n, k):\n",
    "    return (np.math.factorial(n)/(np.math.factorial(k)*np.math.factorial(n-k)))"
   ]
  },
  {
   "cell_type": "code",
   "execution_count": 3,
   "id": "b103d34e",
   "metadata": {},
   "outputs": [
    {
     "data": {
      "text/plain": [
       "20"
      ]
     },
     "execution_count": 3,
     "metadata": {},
     "output_type": "execute_result"
    }
   ],
   "source": [
    "z = np.array([100, 80, 75, 77, 89, 33, 45, 25, 65, 17, 30, 24, 57, 55, 70, 75, 65, 84, 90, 150])\n",
    "\n",
    "z.size"
   ]
  },
  {
   "cell_type": "code",
   "execution_count": 4,
   "id": "7c550318",
   "metadata": {},
   "outputs": [
    {
     "name": "stdout",
     "output_type": "stream",
     "text": [
      "Среднее арифметическое 65.3\n"
     ]
    }
   ],
   "source": [
    "#среднее арифметическое\n",
    "sa = z.sum()/z.size\n",
    "print('Среднее арифметическое',sa)"
   ]
  },
  {
   "cell_type": "code",
   "execution_count": 8,
   "id": "c476c443",
   "metadata": {},
   "outputs": [
    {
     "name": "stdout",
     "output_type": "stream",
     "text": [
      "Среднее квадратичное отклонение  31.624607341019814 30.823854398825596\n"
     ]
    }
   ],
   "source": [
    "#среднее квадратичное отклонение\n",
    "z_sa = (z - sa)**2\n",
    "\n",
    "std = (z_sa.sum()/(z.size-1))**0.5\n",
    "std2 = z.std()\n",
    "\n",
    "print('Среднее квадратичное отклонение ', std, std2)\n"
   ]
  },
  {
   "cell_type": "code",
   "execution_count": 16,
   "id": "25a55b4b",
   "metadata": {},
   "outputs": [
    {
     "name": "stdout",
     "output_type": "stream",
     "text": [
      "Cмещенная и несмещенная оценка дисперсии  950.11 ,  1000.1157894736842 ,  950.11 ,  1000.1157894736842\n"
     ]
    }
   ],
   "source": [
    "#смещенная и несмещенная оценка дисперсии\n",
    "var = z_sa.sum()/z.size\n",
    "vard = z_sa.sum()/(z.size-1)\n",
    "\n",
    "var2= z.var()\n",
    "vard2= z.var(ddof=1)\n",
    "\n",
    "print('Cмещенная и несмещенная оценка дисперсии ', var, ', ', vard, ', ', var2, ', ', vard2)"
   ]
  },
  {
   "cell_type": "markdown",
   "id": "c429066b",
   "metadata": {},
   "source": [
    "<b>2. В первом ящике находится 8 мячей, из которых 5 - белые. Во втором ящике - 12 мячей, из которых 5 белых. Из первого ящика вытаскивают случайным образом два мяча, из второго - 4. Какова вероятность того, что 3 мяча белые?</b>"
   ]
  },
  {
   "cell_type": "markdown",
   "id": "31a9598a",
   "metadata": {},
   "source": [
    "возможные варианты:\n",
    "1) 2 из 1го ящика белые и 1 из 2го ящика белый,\\\n",
    "2) 1 из 1го ящика белый и 2 из 2го ящика белые,\\\n",
    "3) 0 из 1го ящика белых и 3 из 2го ящика белые\\\n",
    "\\\n",
    "P = 1) + 2) + 3)"
   ]
  },
  {
   "cell_type": "code",
   "execution_count": 18,
   "id": "a4938998",
   "metadata": {},
   "outputs": [],
   "source": [
    "C1 = combinations(8, 2)\n",
    "C2 = combinations(12, 4)"
   ]
  },
  {
   "cell_type": "code",
   "execution_count": 26,
   "id": "d0804158",
   "metadata": {},
   "outputs": [
    {
     "name": "stdout",
     "output_type": "stream",
     "text": [
      " 2 из 1го ящика белые и 1 из 2го ящика белый P = 0.12626262626262627\n"
     ]
    }
   ],
   "source": [
    "#вариант 1)\n",
    "\n",
    "z1 = combinations(5, 2)\n",
    "g1 = combinations(5, 1)\n",
    "g2 = combinations(7, 3)\n",
    "P1 = z1/C1\n",
    "P2 = (g1*g2)/C2\n",
    "P_1 = P1*P2\n",
    "\n",
    "print(\" 2 из 1го ящика белые и 1 из 2го ящика белый P =\", P_1)"
   ]
  },
  {
   "cell_type": "code",
   "execution_count": 27,
   "id": "42910844",
   "metadata": {},
   "outputs": [
    {
     "name": "stdout",
     "output_type": "stream",
     "text": [
      "1 из 1го ящика белый и 2 из 2го ящика белые P =  0.22727272727272727\n"
     ]
    }
   ],
   "source": [
    "#вариант 2)\n",
    "\n",
    "z1 = combinations(5, 1)\n",
    "z2 = combinations(3, 1)\n",
    "g1 = combinations(5, 2)\n",
    "g2 = combinations(7, 2)\n",
    "P1 = (z1*z2)/C1\n",
    "P2 = (g1*g2)/C2\n",
    "P_2 = P1*P2\n",
    "\n",
    "print(\"1 из 1го ящика белый и 2 из 2го ящика белые P = \", P_2)\n"
   ]
  },
  {
   "cell_type": "code",
   "execution_count": 28,
   "id": "d312ab30",
   "metadata": {},
   "outputs": [
    {
     "name": "stdout",
     "output_type": "stream",
     "text": [
      "0 из 1го ящика белых и 3 из 2го ящика белые P =  0.01515151515151515\n"
     ]
    }
   ],
   "source": [
    "#вариант 3)\n",
    "\n",
    "z1 = combinations(3, 2)\n",
    "g1 = combinations(5, 3)\n",
    "g2 = combinations(7, 1)\n",
    "P1 = z1/C1\n",
    "P2 = (g1*g2)/C2\n",
    "P_3 = P1*P2\n",
    "\n",
    "print(\"0 из 1го ящика белых и 3 из 2го ящика белые P = \", P_3)"
   ]
  },
  {
   "cell_type": "code",
   "execution_count": 29,
   "id": "fc40cd94",
   "metadata": {},
   "outputs": [
    {
     "name": "stdout",
     "output_type": "stream",
     "text": [
      "0.3686868686868687\n"
     ]
    }
   ],
   "source": [
    "P_total = P_1 + P_2 + P_3\n",
    "\n",
    "print(P_total)"
   ]
  },
  {
   "cell_type": "markdown",
   "id": "01e297d9",
   "metadata": {},
   "source": [
    "<b> 3. На соревновании по биатлону один из трех спортсменов стреляет и попадает в мишень. Вероятность попадания для первого спортсмена равна 0.9, для второго — 0.8, для третьего — 0.6. Найти вероятность того, что выстрел произведен: a). первым спортсменом б). вторым спортсменом в). третьим спортсменом.</b>"
   ]
  },
  {
   "cell_type": "code",
   "execution_count": 30,
   "id": "9059d1a8",
   "metadata": {},
   "outputs": [],
   "source": [
    "P1 = 0.9\n",
    "P2 = 0.8\n",
    "P3 = 0.6\n",
    "q1 = 1-P1\n",
    "q2 = 1-P2\n",
    "q3 = 1-P3\n"
   ]
  },
  {
   "cell_type": "code",
   "execution_count": 31,
   "id": "ed9201a4",
   "metadata": {},
   "outputs": [
    {
     "name": "stdout",
     "output_type": "stream",
     "text": [
      "P выстрел произведен первым спортсменом =  0.072\n",
      "P выстрел произведен вторым спортсменом =  0.031999999999999994\n",
      "P выстрел произведен третьим спортсменом =  0.011999999999999993\n"
     ]
    }
   ],
   "source": [
    "# a)\n",
    "P = P1*q2*q3\n",
    "print(\"P выстрел произведен первым спортсменом = \", P)\n",
    "\n",
    "# b)\n",
    "P = P2*q1*q3\n",
    "print(\"P выстрел произведен вторым спортсменом = \", P)\n",
    "\n",
    "# в)\n",
    "P = P3*q1*q2\n",
    "print(\"P выстрел произведен третьим спортсменом = \", P)"
   ]
  },
  {
   "cell_type": "markdown",
   "id": "b15d6f16",
   "metadata": {},
   "source": [
    "<b> 4.В университет на факультеты A и B поступило равное количество студентов, а на факультет C студентов поступило столько же, сколько на A и B вместе. Вероятность того, что студент факультета A сдаст первую сессию, равна 0.8. Для студента факультета B эта вероятность равна 0.7, а для студента факультета C - 0.9. Студент сдал первую сессию. Какова вероятность, что он учится: a). на факультете A б). на факультете B в). на факультете C?  </b>"
   ]
  },
  {
   "cell_type": "code",
   "execution_count": 36,
   "id": "403f53c5",
   "metadata": {},
   "outputs": [],
   "source": [
    "#вероятность сдать сессию\n",
    "Pa = 0.8\n",
    "Pb = 0.7\n",
    "Pc = 0.9\n",
    "\n",
    "#вероятность, что случайный студент с факультета\n",
    "Qa = 0.25\n",
    "Qb = 0.25\n",
    "Qc = 0.5"
   ]
  },
  {
   "cell_type": "code",
   "execution_count": 37,
   "id": "46dffef3",
   "metadata": {},
   "outputs": [
    {
     "name": "stdout",
     "output_type": "stream",
     "text": [
      "Доля сдавших студентов от общего числа поступивших 0.825\n"
     ]
    }
   ],
   "source": [
    "# доля сдавших студентов от общего числа поступивших\n",
    "Pall = Qa*Pa + Qb*Pb + Qc*Pc\n",
    "print('Доля сдавших студентов от общего числа поступивших' , Pall)"
   ]
  },
  {
   "cell_type": "code",
   "execution_count": 39,
   "id": "c68250ee",
   "metadata": {},
   "outputs": [
    {
     "name": "stdout",
     "output_type": "stream",
     "text": [
      "Студент c факультета A 0.24242424242424246\n"
     ]
    }
   ],
   "source": [
    "# вероятность того, что студент учится на факультете А\n",
    "P = Qa*Pa/Pall\n",
    "print(\"Студент c факультета A\", P)\n"
   ]
  },
  {
   "cell_type": "code",
   "execution_count": 40,
   "id": "d9767e3b",
   "metadata": {},
   "outputs": [
    {
     "name": "stdout",
     "output_type": "stream",
     "text": [
      "Студент c факультета B 0.21212121212121213\n"
     ]
    }
   ],
   "source": [
    "# вероятность того, что студент учится на факультете B\n",
    "P = Qb*Pb/Pall\n",
    "print(\"Студент c факультета B\", P)"
   ]
  },
  {
   "cell_type": "code",
   "execution_count": 41,
   "id": "e8c1b668",
   "metadata": {},
   "outputs": [
    {
     "name": "stdout",
     "output_type": "stream",
     "text": [
      "Студент c факультета C 0.5454545454545455\n"
     ]
    }
   ],
   "source": [
    "# вероятность того, что студент учится на факультете C\n",
    "P = Qc*Pc/Pall\n",
    "print(\"Студент c факультета C\", P)"
   ]
  },
  {
   "cell_type": "markdown",
   "id": "fb32efe8",
   "metadata": {},
   "source": [
    "<b> 5.Устройство состоит из трех деталей. Для первой детали вероятность выйти из строя в первый месяц равна 0.1, для второй - 0.2, для третьей - 0.25. Какова вероятность того, что в первый месяц выйдут из строя: а). все детали б). только две детали в). хотя бы одна деталь г). от одной до двух деталей? </b>"
   ]
  },
  {
   "cell_type": "code",
   "execution_count": 46,
   "id": "2f4bebc0",
   "metadata": {},
   "outputs": [],
   "source": [
    "# вероятность выйти из строя\n",
    "P1 = 0.1\n",
    "P2 = 0.2\n",
    "P3 = 0.25\n",
    "\n",
    "# вероятность остаться исправной\n",
    "Q1 = 1-P1\n",
    "Q2 = 1-P2\n",
    "Q3 = 1-P3\n",
    "\n"
   ]
  },
  {
   "cell_type": "code",
   "execution_count": 47,
   "id": "040e4a35",
   "metadata": {},
   "outputs": [
    {
     "name": "stdout",
     "output_type": "stream",
     "text": [
      "Все делали выйдут из строя P =  0.005000000000000001\n"
     ]
    }
   ],
   "source": [
    "# все детали выйдут из строя\n",
    "\n",
    "P = P1*P2*P3\n",
    "\n",
    "print('Все делали выйдут из строя P = ', P)"
   ]
  },
  {
   "cell_type": "code",
   "execution_count": 48,
   "id": "ef5c2e3c",
   "metadata": {},
   "outputs": [
    {
     "name": "stdout",
     "output_type": "stream",
     "text": [
      "Только две детали выйдут из строя P =  0.08000000000000002\n"
     ]
    }
   ],
   "source": [
    "# только две детали выйдут из строя\n",
    "\n",
    "P = P1*P2*Q3 + P2*P3*Q1 + P1*P3*Q2\n",
    "\n",
    "print('Только две детали выйдут из строя P = ', P)"
   ]
  },
  {
   "cell_type": "code",
   "execution_count": 49,
   "id": "f8122ac3",
   "metadata": {},
   "outputs": [
    {
     "name": "stdout",
     "output_type": "stream",
     "text": [
      "Хотя бы одна деталь выйдет из строя P =  0.45999999999999996\n"
     ]
    }
   ],
   "source": [
    "# хотя бы одна деталь выйдет из строя\n",
    "\n",
    "P = 1 - Q1*Q2*Q3\n",
    "\n",
    "print('Хотя бы одна деталь выйдет из строя P = ', P)"
   ]
  },
  {
   "cell_type": "code",
   "execution_count": 50,
   "id": "9db82a1c",
   "metadata": {},
   "outputs": [
    {
     "name": "stdout",
     "output_type": "stream",
     "text": [
      "От одной до двух деталей выйдут из строя P =  0.45500000000000007\n"
     ]
    }
   ],
   "source": [
    "# от одной до двух деталей выйдут из строя\n",
    "\n",
    "P_1 = P1*Q2*Q3\n",
    "P_2 = P2*Q1*Q3\n",
    "P_3 = P3*Q2*Q1\n",
    "\n",
    "P = P_2 + P_3 + P_1 + (P1*P2*Q3 + P2*P3*Q1 + P1*P3*Q2)\n",
    "\n",
    "print('От одной до двух деталей выйдут из строя P = ', P)"
   ]
  },
  {
   "cell_type": "code",
   "execution_count": null,
   "id": "bcf77f32",
   "metadata": {},
   "outputs": [],
   "source": []
  }
 ],
 "metadata": {
  "kernelspec": {
   "display_name": "Python 3 (ipykernel)",
   "language": "python",
   "name": "python3"
  },
  "language_info": {
   "codemirror_mode": {
    "name": "ipython",
    "version": 3
   },
   "file_extension": ".py",
   "mimetype": "text/x-python",
   "name": "python",
   "nbconvert_exporter": "python",
   "pygments_lexer": "ipython3",
   "version": "3.9.7"
  }
 },
 "nbformat": 4,
 "nbformat_minor": 5
}
