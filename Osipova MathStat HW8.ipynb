{
 "cells": [
  {
   "cell_type": "markdown",
   "id": "d6fc93f8",
   "metadata": {},
   "source": [
    "### Домашнее задание к уроку 8\n",
    "Дисперсионный анализ. Логистическая регрессия"
   ]
  },
  {
   "cell_type": "markdown",
   "id": "214beb6c",
   "metadata": {},
   "source": [
    "<b>1.Провести дисперсионный анализ для определения того, есть ли различия среднего роста среди взрослых футболистов, хоккеистов и штангистов. Даны значения роста в трех группах случайно выбранных спортсменов: \\\n",
    "Футболисты: 173, 175, 180, 178, 177, 185, 183, 182.\\\n",
    "Хоккеисты: 177, 179, 180, 188, 177, 172, 171, 184, 180.\\\n",
    "Штангисты: 172, 173, 169, 177, 166, 180, 178, 177, 172, 166, 170. \\\n",
    "alpha = 0.05</b>"
   ]
  },
  {
   "cell_type": "code",
   "execution_count": 1,
   "id": "48ced8de",
   "metadata": {},
   "outputs": [],
   "source": [
    "import numpy as np\n",
    "import pandas as pd\n",
    "from scipy import stats"
   ]
  },
  {
   "cell_type": "markdown",
   "id": "bc46d6ba",
   "metadata": {},
   "source": [
    "Нулевая гипотеза:\n",
    "средний рост спортсмена не зависит от вида спорта, которым он занимается(из представленных трех).\\\n",
    "\\\n",
    "Альтернативная гипотеза:\n",
    "Средний рост спортсмена зависит от выбранного им спорта."
   ]
  },
  {
   "cell_type": "code",
   "execution_count": 2,
   "id": "12b2b95c",
   "metadata": {},
   "outputs": [],
   "source": [
    "football=np.array([173, 175, 180, 178, 177, 185, 183, 182])\n",
    "hockey=np.array([177, 179, 180, 188, 177, 172, 171, 184, 180])\n",
    "weightlifting=np.array([172, 173, 169, 177, 166, 180, 178, 177, 172, 166, 170])"
   ]
  },
  {
   "cell_type": "markdown",
   "id": "dcf22c3a",
   "metadata": {},
   "source": [
    "Воспользуемся встроенным методом однофакторного дисперсионного анализа библиотеки scipy:"
   ]
  },
  {
   "cell_type": "code",
   "execution_count": 4,
   "id": "7c50c79c",
   "metadata": {},
   "outputs": [
    {
     "data": {
      "text/plain": [
       "F_onewayResult(statistic=5.500053450812596, pvalue=0.010482206918698694)"
      ]
     },
     "execution_count": 4,
     "metadata": {},
     "output_type": "execute_result"
    }
   ],
   "source": [
    "stats.f_oneway(football, hockey, weightlifting)"
   ]
  },
  {
   "cell_type": "markdown",
   "id": "ddccca43",
   "metadata": {},
   "source": [
    "Получили значение p = 0.0105 на уровне статистической значимости alpha = 0.05 отвергаем нулевую гипотезу. Т.е. средний рост футболистов, хоккеистов и штангистоа различен."
   ]
  },
  {
   "cell_type": "code",
   "execution_count": null,
   "id": "72b08d70",
   "metadata": {},
   "outputs": [],
   "source": []
  }
 ],
 "metadata": {
  "kernelspec": {
   "display_name": "Python 3 (ipykernel)",
   "language": "python",
   "name": "python3"
  },
  "language_info": {
   "codemirror_mode": {
    "name": "ipython",
    "version": 3
   },
   "file_extension": ".py",
   "mimetype": "text/x-python",
   "name": "python",
   "nbconvert_exporter": "python",
   "pygments_lexer": "ipython3",
   "version": "3.9.7"
  }
 },
 "nbformat": 4,
 "nbformat_minor": 5
}
